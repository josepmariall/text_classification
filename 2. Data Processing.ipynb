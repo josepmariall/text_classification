{
 "cells": [
  {
   "cell_type": "markdown",
   "metadata": {},
   "source": [
    "# II. Data Processing\n",
    "\n",
    "In order to create a model to predict the label for each document, we need to pre-process the data.\n",
    "\n",
    "Pre-processed data will then be used ot create a prediciton model \n",
    "\n",
    "Here's the data preprocessing we shall undertake:\n",
    "- Word Tokenize\n",
    "- Lowercase \n",
    "- Remove punctuation\n",
    "- Stopwords removal\n",
    "- Remove most common words\n",
    "- Remove least common words\n",
    "\n",
    "Finally, we saved modified dataset."
   ]
  },
  {
   "cell_type": "code",
   "execution_count": 1,
   "metadata": {},
   "outputs": [],
   "source": [
    "# import libraries\n",
    "import pandas as pd\n",
    "from sklearn import preprocessing\n",
    "import sklearn.model_selection as ms\n",
    "from sklearn import linear_model\n",
    "import sklearn.metrics as sklm\n",
    "import numpy as np\n",
    "import numpy.random as nr\n",
    "import seaborn as sns\n",
    "import scipy.stats as ss\n",
    "import math\n",
    "\n",
    "%matplotlib inline\n"
   ]
  },
  {
   "cell_type": "code",
   "execution_count": 2,
   "metadata": {},
   "outputs": [
    {
     "name": "stdout",
     "output_type": "stream",
     "text": [
      "showing info https://raw.githubusercontent.com/nltk/nltk_data/gh-pages/index.xml\n"
     ]
    },
    {
     "data": {
      "text/plain": [
       "True"
      ]
     },
     "execution_count": 2,
     "metadata": {},
     "output_type": "execute_result"
    }
   ],
   "source": [
    "import nltk\n",
    "nltk.download()"
   ]
  },
  {
   "cell_type": "markdown",
   "metadata": {},
   "source": [
    "### 1. Import datasets"
   ]
  },
  {
   "cell_type": "code",
   "execution_count": 3,
   "metadata": {},
   "outputs": [
    {
     "data": {
      "text/plain": [
       "(18830, 2)"
      ]
     },
     "execution_count": 3,
     "metadata": {},
     "output_type": "execute_result"
    }
   ],
   "source": [
    "#import first data set (train_values)\n",
    "train=pd.read_csv('train_values.csv',sep=',')\n",
    "train.shape"
   ]
  },
  {
   "cell_type": "code",
   "execution_count": 4,
   "metadata": {},
   "outputs": [
    {
     "data": {
      "text/html": [
       "<div>\n",
       "<style scoped>\n",
       "    .dataframe tbody tr th:only-of-type {\n",
       "        vertical-align: middle;\n",
       "    }\n",
       "\n",
       "    .dataframe tbody tr th {\n",
       "        vertical-align: top;\n",
       "    }\n",
       "\n",
       "    .dataframe thead th {\n",
       "        text-align: right;\n",
       "    }\n",
       "</style>\n",
       "<table border=\"1\" class=\"dataframe\">\n",
       "  <thead>\n",
       "    <tr style=\"text-align: right;\">\n",
       "      <th></th>\n",
       "      <th>row_id</th>\n",
       "      <th>doc_text</th>\n",
       "    </tr>\n",
       "  </thead>\n",
       "  <tbody>\n",
       "    <tr>\n",
       "      <th>0</th>\n",
       "      <td>0</td>\n",
       "      <td>For more information, visit http://www.wor...</td>\n",
       "    </tr>\n",
       "    <tr>\n",
       "      <th>1</th>\n",
       "      <td>1</td>\n",
       "      <td>...</td>\n",
       "    </tr>\n",
       "    <tr>\n",
       "      <th>2</th>\n",
       "      <td>2</td>\n",
       "      <td>...</td>\n",
       "    </tr>\n",
       "    <tr>\n",
       "      <th>3</th>\n",
       "      <td>3</td>\n",
       "      <td>71399\\r\\n\\r\\nPr...</td>\n",
       "    </tr>\n",
       "    <tr>\n",
       "      <th>4</th>\n",
       "      <td>4</td>\n",
       "      <td>90189\\r\\n\\r\\n\\r\\n\\r\\...</td>\n",
       "    </tr>\n",
       "  </tbody>\n",
       "</table>\n",
       "</div>"
      ],
      "text/plain": [
       "   row_id                                           doc_text\n",
       "0       0      For more information, visit http://www.wor...\n",
       "1       1                                                ...\n",
       "2       2                                                ...\n",
       "3       3                                 71399\\r\\n\\r\\nPr...\n",
       "4       4                            90189\\r\\n\\r\\n\\r\\n\\r\\..."
      ]
     },
     "execution_count": 4,
     "metadata": {},
     "output_type": "execute_result"
    }
   ],
   "source": [
    "train.head(5)"
   ]
  },
  {
   "cell_type": "markdown",
   "metadata": {},
   "source": [
    "### 2. Text Processing"
   ]
  },
  {
   "cell_type": "markdown",
   "metadata": {},
   "source": [
    "**2.1 Word Tokenize**"
   ]
  },
  {
   "cell_type": "code",
   "execution_count": 5,
   "metadata": {},
   "outputs": [
    {
     "data": {
      "text/plain": [
       "0        [For, more, information, ,, visit, http, :, //...\n",
       "1        [www.ifc.org/ThoughtLeadership, Note, 28, |, J...\n",
       "2        [WPS4830, P, olicy, R, eseaRch, W, oRking, P, ...\n",
       "3        [71399, Procurement, Monitoring, and, Social, ...\n",
       "4        [90189, Executive, Board, Meeting, Minutes, of...\n",
       "5        [90966, International, Comparison, Program, IC...\n",
       "6        [CENTRAL, ASIA, EARTHQUAKE, RISK, REDUCTION, F...\n",
       "7        [46966, Samuel, Clark, Blair, Palmer, $, :, TH...\n",
       "8        [53062, PPI, data, update, note, 26, November,...\n",
       "9        [63696, Creating, opportunities, for, women, I...\n",
       "10       [49736, STATUS, OF, PROJECTS, IN, EXECUTION, F...\n",
       "11       [FIXED, INCOME, In, Focus, INSTRUMENTS, TO, MO...\n",
       "12       [72668, v1, World, Trade, Indicators, 2009/10,...\n",
       "13       [62250, Successful, Education, Reform, :, Less...\n",
       "14       [WPS5990, Policy, Research, Working, Paper, 59...\n",
       "15       [Report, on, Advisory, Services, Operations, i...\n",
       "16       [48573, Volume, 7, ,, Number, 4, April, 2009, ...\n",
       "17       [79025, AUTHOR, ACCEPTED, MANUSCRIPT, PRELIMIN...\n",
       "18       [CLOSING, THE, GAPIMPROVING, LAWS, PROTECTING,...\n",
       "19       [63595, Daily, Brief, Economics, and, Financia...\n",
       "20       [44300, The, Role, of, Indigenous, Peoples, in...\n",
       "21       [40597, From, Policy, to, Action, :, Young, Pe...\n",
       "22       [60903, Daily, Brief, Economics, and, Financia...\n",
       "23       [Guidance, Note, 1, Assessment, and, Managemen...\n",
       "24       [51956, IDA, At, Work, Health, :, Supporting, ...\n",
       "25       [88996, DISCUSSION, PAPER, NO, ., 1406, Sierra...\n",
       "26       [Page, 1, Distortions, to, Agricultural, Incen...\n",
       "27       [92193, Cambodia, DFGG, Learning, Note, 13, Ci...\n",
       "28       [84136, DECPG, Daily, Economics, and, Financia...\n",
       "29       [44166, Approaches, to, Private, Participation...\n",
       "                               ...                        \n",
       "18800    [77228, Nutrition, at, a, GLANCE, YEMEN, The, ...\n",
       "18801    [Child, Feces, Disposal, in, 96429, INDONESIA,...\n",
       "18802    [WORLDBANKGROUP, GR, QRI5KPROFILES, EROPE, AND...\n",
       "18803    [Bulgaria, SABER, Country, Report, TEACHERS, 2...\n",
       "18804    [98836, TECHNICAL, WORKING, PAPER, CAMBODIA, Q...\n",
       "18805    [77187, Nutrition, at, a, GLANCE, Niger, The, ...\n",
       "18806    [101347, The, Clean, Energy, Challenge, ,, Con...\n",
       "18807    [A, g, r, i, c, u, lt, u, r, e, G, l, o, b, a,...\n",
       "18808    [THE, STATE, OF, IDENTIFICATION, SYSTEMS, IN, ...\n",
       "18809    [Afghanistan, in, Transition, :, Looking, Beyo...\n",
       "18810    [88530, Namibia, Country, Opinion, Survey, Rep...\n",
       "18811    [94090, SMEs, and, Women-owned, SMEs, in, Mong...\n",
       "18812    [68637, Satellite, photo, of, earth, at, night...\n",
       "18813    [35662, The, World, Bank, PREMnotes, F, E, B, ...\n",
       "18814    [Promoting, KNOWLEDGE, NOTE, Disaster, Resilie...\n",
       "18815    [93313, ARTF, Administrators, Report, on, Fina...\n",
       "18816    [80672, THE, WORLD, BANK, INSTITUTE, Capacity,...\n",
       "18817    [Doing, Business, 2016, Ghana, 100736, Economy...\n",
       "18818    [96382, April, 9, ,, 2012, Technology, Improve...\n",
       "18819    [Statement, of, Loans, The, Statement, of, Loa...\n",
       "18820    [54889, Characterizing, the, HIV/AIDS, Epidemi...\n",
       "18821    [41168, Integrated, anagementM, Management, ba...\n",
       "18822    [81294, enGender, Impact, :, The, World, Banks...\n",
       "18823    [65349, MIGA, 's, Financial, Sector, Guarantee...\n",
       "18824    [Clean, and, Inclusive, Cities, in, Argentina,...\n",
       "18825    [68085, Statement, of, Loans, The, Statement, ...\n",
       "18826    [Burkina, Faso, :, the, Za, Technique, and, En...\n",
       "18827    [WPS6327, Policy, Research, Working, Paper, 63...\n",
       "18828    [CONSULTATIVE, G, R, O, U, P, O, N, I, N, T, E...\n",
       "18829    [57507, AFGHANISTAN, RECONSTRUCTION, TRUST, FU...\n",
       "Name: doc_text, Length: 18830, dtype: object"
      ]
     },
     "execution_count": 5,
     "metadata": {},
     "output_type": "execute_result"
    }
   ],
   "source": [
    "# Train tokenize\n",
    "from nltk.tokenize import word_tokenize\n",
    "\n",
    "train['doc_text'].apply(word_tokenize)"
   ]
  },
  {
   "cell_type": "markdown",
   "metadata": {},
   "source": [
    "**2.2 Lowercase**"
   ]
  },
  {
   "cell_type": "code",
   "execution_count": 6,
   "metadata": {},
   "outputs": [
    {
     "data": {
      "text/plain": [
       "0    for more information, visit http://www.worldba...\n",
       "1    www.ifc.org/thoughtleadership note 28 | januar...\n",
       "2    wps4830 p olicy r esearch w orking p aper 4830...\n",
       "3    71399 procurement monitoring and social accoun...\n",
       "4    90189 executive board meeting minutes of meeti...\n",
       "Name: doc_text, dtype: object"
      ]
     },
     "execution_count": 6,
     "metadata": {},
     "output_type": "execute_result"
    }
   ],
   "source": [
    "# Text Preprocessing (train)\n",
    "# lowercase\n",
    "train['doc_text'] = train['doc_text'].apply(lambda x: \" \".join(x.lower() for x in x.split()))\n",
    "train['doc_text'].head()\n",
    "\n",
    "\n"
   ]
  },
  {
   "cell_type": "markdown",
   "metadata": {},
   "source": [
    "**2.3 Remove punctuation**"
   ]
  },
  {
   "cell_type": "code",
   "execution_count": 7,
   "metadata": {},
   "outputs": [
    {
     "data": {
      "text/plain": [
       "0    for more information visit httpwwwworldbankorg...\n",
       "1    wwwifcorgthoughtleadership note 28  january 20...\n",
       "2    wps4830 p olicy r esearch w orking p aper 4830...\n",
       "3    71399 procurement monitoring and social accoun...\n",
       "4    90189 executive board meeting minutes of meeti...\n",
       "Name: doc_text, dtype: object"
      ]
     },
     "execution_count": 7,
     "metadata": {},
     "output_type": "execute_result"
    }
   ],
   "source": [
    "#Removing Punctuation (train)\n",
    "train['doc_text'] = train['doc_text'].str.replace('[^\\w\\s]','')\n",
    "train['doc_text'].head()"
   ]
  },
  {
   "cell_type": "markdown",
   "metadata": {},
   "source": [
    "**2.3 Stopwords removal**"
   ]
  },
  {
   "cell_type": "code",
   "execution_count": 8,
   "metadata": {},
   "outputs": [
    {
     "data": {
      "text/plain": [
       "0    information visit httpwwwworldbankorgprospects...\n",
       "1    wwwifcorgthoughtleadership note 28 january 201...\n",
       "2    wps4830 p olicy r esearch w orking p aper 4830...\n",
       "3    71399 procurement monitoring social accountabi...\n",
       "4    90189 executive board meeting minutes meeting ...\n",
       "Name: doc_text, dtype: object"
      ]
     },
     "execution_count": 8,
     "metadata": {},
     "output_type": "execute_result"
    }
   ],
   "source": [
    "# Stopwords removal (train)\n",
    "from nltk.corpus import stopwords\n",
    "stop = stopwords.words('english')\n",
    "train['doc_text'] = train['doc_text'].apply(lambda x: \" \".join(x for x in x.split() if x not in stop))\n",
    "train['doc_text'].head()"
   ]
  },
  {
   "cell_type": "markdown",
   "metadata": {},
   "source": [
    "**2.3 Remove common words**"
   ]
  },
  {
   "cell_type": "code",
   "execution_count": 9,
   "metadata": {},
   "outputs": [
    {
     "data": {
      "text/plain": [
       "bank           158238\n",
       "world          147280\n",
       "development    121561\n",
       "business       103123\n",
       "countries       97972\n",
       "1               93992\n",
       "data            74815\n",
       "2               73725\n",
       "percent         70188\n",
       "sector          67257\n",
       "dtype: int64"
      ]
     },
     "execution_count": 9,
     "metadata": {},
     "output_type": "execute_result"
    }
   ],
   "source": [
    "# View most common 10 words (train)\n",
    "freq = pd.Series(' '.join(train['doc_text']).split()).value_counts()[:10]\n",
    "freq"
   ]
  },
  {
   "cell_type": "code",
   "execution_count": 10,
   "metadata": {},
   "outputs": [
    {
     "data": {
      "text/plain": [
       "0    information visit httpwwwworldbankorgprospects...\n",
       "1    wwwifcorgthoughtleadership note 28 january 201...\n",
       "2    wps4830 p olicy r esearch w orking p aper 4830...\n",
       "3    71399 procurement monitoring social accountabi...\n",
       "4    90189 executive board meeting minutes meeting ...\n",
       "Name: doc_text, dtype: object"
      ]
     },
     "execution_count": 10,
     "metadata": {},
     "output_type": "execute_result"
    }
   ],
   "source": [
    "# Remove most common 10 words (train)\n",
    "freq = list(freq.index)\n",
    "train['doc_text'] = train['doc_text'].apply(lambda x: \" \".join(x for x in x.split() if x not in freq))\n",
    "train['doc_text'].head()"
   ]
  },
  {
   "cell_type": "markdown",
   "metadata": {},
   "source": [
    "**2.4 Remove rare words**"
   ]
  },
  {
   "cell_type": "code",
   "execution_count": 11,
   "metadata": {},
   "outputs": [
    {
     "data": {
      "text/plain": [
       "69944              1\n",
       "dic09              1\n",
       "threeaddressing    1\n",
       "ipsr               1\n",
       "presenc            1\n",
       "flambee            1\n",
       "gobek              1\n",
       "prazos             1\n",
       "geex19266          1\n",
       "59829              1\n",
       "dtype: int64"
      ]
     },
     "execution_count": 11,
     "metadata": {},
     "output_type": "execute_result"
    }
   ],
   "source": [
    " # View most rare words (train)\n",
    "freq = pd.Series(' '.join(train['doc_text']).split()).value_counts()[-10:]\n",
    "freq"
   ]
  },
  {
   "cell_type": "code",
   "execution_count": 12,
   "metadata": {},
   "outputs": [
    {
     "data": {
      "text/plain": [
       "0    information visit httpwwwworldbankorgprospects...\n",
       "1    wwwifcorgthoughtleadership note 28 january 201...\n",
       "2    wps4830 p olicy r esearch w orking p aper 4830...\n",
       "3    71399 procurement monitoring social accountabi...\n",
       "4    90189 executive board meeting minutes meeting ...\n",
       "Name: doc_text, dtype: object"
      ]
     },
     "execution_count": 12,
     "metadata": {},
     "output_type": "execute_result"
    }
   ],
   "source": [
    "# Remove rare words (train)\n",
    "freq = list(freq.index)\n",
    "train['doc_text'] = train['doc_text'].apply(lambda x: \" \".join(x for x in x.split() if x not in freq))\n",
    "train['doc_text'].head()"
   ]
  },
  {
   "cell_type": "markdown",
   "metadata": {},
   "source": [
    "**2.5 Steeming**"
   ]
  },
  {
   "cell_type": "code",
   "execution_count": 13,
   "metadata": {},
   "outputs": [
    {
     "data": {
      "text/plain": [
       "0        inform visit httpwwwworldbankorgprospect 98944...\n",
       "1        wwwifcorgthoughtleadership note 28 januari 201...\n",
       "2        wps4830 p olici r esearch w ork p aper 4830 de...\n",
       "3        71399 procur monitor social account curriculum...\n",
       "4        90189 execut board meet minut meet octob 14 20...\n",
       "5        90966 intern comparison program icp revis back...\n",
       "6        central asia earthquak risk reduct forum forum...\n",
       "7        46966 samuel clark blair palmer indonesian soc...\n",
       "8        53062 ppi updat note 26 novemb 2009 privat act...\n",
       "9        63696 creat opportun women ifc women program f...\n",
       "10       49736 statu project execut fy08 latin america ...\n",
       "11       fix incom focu instrument mobil institut inves...\n",
       "12       72668 v1 trade indic 200910 former yugoslav re...\n",
       "13       62250 success educ reform lesson poland key me...\n",
       "14       wps5990 polici research work paper 5990 green ...\n",
       "15       report advisori servic oper middl east north a...\n",
       "16       48573 volum 7 number 4 april 2009 best wish ha...\n",
       "17       79025 author accept manuscript preliminari inf...\n",
       "18       close gapimprov law protect women violenc wome...\n",
       "19       63595 daili brief econom financi market commen...\n",
       "20       44300 role indigen peopl biodivers conserv nat...\n",
       "21       40597 polici action young peopl disabl eca reg...\n",
       "22       60903 daili brief econom financi market commen...\n",
       "23       guidanc note assess manag environment social r...\n",
       "24       51956 ida work health support countri health s...\n",
       "25       88996 discuss paper 1406 sierra leon social pr...\n",
       "26       page distort agricultur incent kenya alex wint...\n",
       "27       92193 cambodia dfgg learn note 13 citizen serv...\n",
       "28       84136 decpg daili econom financi market commen...\n",
       "29       44166 approach privat particip water servic to...\n",
       "                               ...                        \n",
       "18800    77228 nutrit glanc yemen cost undernutrit annu...\n",
       "18801    child fece dispos 96429 indonesia key messag 2...\n",
       "18802    worldbankgroup gr qri5kprofil erop andcentrala...\n",
       "18803    bulgaria saber countri report teacher 2013 pol...\n",
       "18804    98836 technic work paper cambodia qualiti asse...\n",
       "18805    77187 nutrit glanc niger cost undernutrit onet...\n",
       "18806    101347 clean energi challeng confer biofuel tr...\n",
       "18807    g r c u lt u r e g l b l p r c c e n e 10 tanz...\n",
       "18808    state identif system africa countri brief stat...\n",
       "18809    afghanistan transit look beyond 2014 volum mai...\n",
       "18810    88530 namibia countri opinion survey report ju...\n",
       "18811    94090 sme womenown sme mongolia market researc...\n",
       "18812    68637 satellit photo earth night photo nasa co...\n",
       "18813    35662 premnot f e b r u r 0 0 6 n u b e r 0 6 ...\n",
       "18814    promot knowledg note disast resili cultur heri...\n",
       "18815    93313 artf administr report financi statu octo...\n",
       "18816    80672 institut capac leverag power knowledg in...\n",
       "18817    2016 ghana 100736 economi profil 2016 ghana 20...\n",
       "18818    96382 april 9 2012 technolog improv azerbaijan...\n",
       "18819    statement loan statement loan divid two volum ...\n",
       "18820    54889 character hivaid epidem middl east north...\n",
       "18821    41168 integr anagementm manag basin concept go...\n",
       "18822    81294 engend impact bank gender impact evalu d...\n",
       "18823    65349 miga financi guarante strateg context gr...\n",
       "18824    clean inclus citi argentina novemb 2016 clean ...\n",
       "18825    68085 statement loan statement loan divid two ...\n",
       "18826    burkina faso za techniqu enhanc agricultur pro...\n",
       "18827    wps6327 polici research work paper 6327 trade ...\n",
       "18828    consult g r u p n n e r n n l g r c u lt u r l...\n",
       "18829    57507 afghanistan reconstruct trust fund r bu ...\n",
       "Name: doc_text, Length: 18830, dtype: object"
      ]
     },
     "execution_count": 13,
     "metadata": {},
     "output_type": "execute_result"
    }
   ],
   "source": [
    "#train\n",
    "from nltk.stem import PorterStemmer\n",
    "st = PorterStemmer()\n",
    "train['doc_text'].apply(lambda x: \" \".join([st.stem(word) for word in x.split()]))"
   ]
  },
  {
   "cell_type": "markdown",
   "metadata": {},
   "source": [
    "### 3. Save modified trianing file for model creation"
   ]
  },
  {
   "cell_type": "code",
   "execution_count": 15,
   "metadata": {},
   "outputs": [],
   "source": [
    "train.to_csv(\"train_modif2.csv\", index=False)"
   ]
  }
 ],
 "metadata": {
  "kernelspec": {
   "display_name": "Python 3",
   "language": "python",
   "name": "python3"
  },
  "language_info": {
   "codemirror_mode": {
    "name": "ipython",
    "version": 3
   },
   "file_extension": ".py",
   "mimetype": "text/x-python",
   "name": "python",
   "nbconvert_exporter": "python",
   "pygments_lexer": "ipython3",
   "version": "3.7.2"
  }
 },
 "nbformat": 4,
 "nbformat_minor": 2
}
